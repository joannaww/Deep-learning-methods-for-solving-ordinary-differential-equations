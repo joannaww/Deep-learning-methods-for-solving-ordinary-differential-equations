{
 "cells": [
  {
   "cell_type": "code",
   "execution_count": 26,
   "id": "45f5238b",
   "metadata": {},
   "outputs": [],
   "source": [
    "import numpy as np\n",
    "import torch\n",
    "import torch.nn as nn\n",
    "import torch.optim as optim\n",
    "import matplotlib.pyplot as plt\n",
    "from scipy.integrate import solve_ivp\n",
    "import pandas as pd\n",
    "from sklearn.metrics import mean_absolute_error as mae\n",
    "import time\n",
    "\n",
    "import warnings\n",
    "warnings.filterwarnings('ignore')\n",
    "\n",
    "import seaborn as sns\n",
    "import matplotlib as mpl\n",
    "sns.set_style(\"darkgrid\")\n",
    "mpl.rcParams['figure.dpi'] = 100"
   ]
  },
  {
   "cell_type": "markdown",
   "id": "fd1b08f1",
   "metadata": {},
   "source": [
    "# Newtons Law of Cooling\n",
    "\n",
    "$$\n",
    "\\frac{dT}{dt} = -k \\left(T - A\\left(t\\right)\\right)\n",
    "$$\n",
    "Analytic solution:\n",
    "$$\n",
    "T\\left(t\\right) = A + \\left(T_0 -A\\right)e^{-kt}\n",
    "$$\n",
    "\n",
    "- Train on [0,2], prediction on [0,4]."
   ]
  },
  {
   "cell_type": "code",
   "execution_count": 2,
   "id": "298847de",
   "metadata": {},
   "outputs": [],
   "source": [
    "# Define the ordinary differential equation\n",
    "def f(y):\n",
    "    return -k*(y-A)"
   ]
  },
  {
   "cell_type": "code",
   "execution_count": 3,
   "id": "7ccc4cfd",
   "metadata": {},
   "outputs": [],
   "source": [
    "# Define Euler's method\n",
    "def euler_step(y, h):\n",
    "    return y + h * f(y)"
   ]
  },
  {
   "cell_type": "code",
   "execution_count": 4,
   "id": "08087bd6",
   "metadata": {},
   "outputs": [],
   "source": [
    "# parameters\n",
    "A = 10\n",
    "k = 2\n",
    "T0 = 0"
   ]
  },
  {
   "cell_type": "code",
   "execution_count": 5,
   "id": "7d637bf6",
   "metadata": {},
   "outputs": [],
   "source": [
    "# Generate synthetic data\n",
    "torch.manual_seed(0)\n",
    "x_train = torch.rand(100) * 2  # train on range [0, 2] with 100 points\n",
    "x_train, _ = torch.sort(x_train)\n",
    "y_true = A+(T0-A)*torch.exp(-k*x_train) # True solution of the ODE "
   ]
  },
  {
   "cell_type": "code",
   "execution_count": 6,
   "id": "36108ef1",
   "metadata": {},
   "outputs": [],
   "source": [
    "# Calculate the true local truncation error\n",
    "def true_truncation_error(x_i, x_j, z_i, z_j):\n",
    "    return (1/(x_j - x_i) ** 2)*(z_j - z_i - (x_j - x_i) * f(z_i))"
   ]
  },
  {
   "cell_type": "code",
   "execution_count": 7,
   "id": "e95b52e5",
   "metadata": {},
   "outputs": [],
   "source": [
    "# Generate training samples for the neural network\n",
    "N = len(x_train)\n",
    "samples = []\n",
    "for i in range(N):\n",
    "    for j in range(i + 1, N):\n",
    "        x_i, x_j = x_train[i], x_train[j]\n",
    "        y_i, y_j = y_true[i], y_true[j]\n",
    "        samples.append((x_i, x_j, y_i, true_truncation_error(x_i, x_j, y_i, y_j)))\n",
    "\n",
    "# Shuffle the samples\n",
    "np.random.shuffle(samples)"
   ]
  },
  {
   "cell_type": "code",
   "execution_count": 8,
   "id": "e8414325",
   "metadata": {},
   "outputs": [],
   "source": [
    "# Prepare the data for training\n",
    "X = torch.tensor([(x_i, x_j, y_i) for x_i, x_j, y_i, _ in samples], dtype=torch.float32) # x_i, x_j, y_i\n",
    "y = torch.tensor([R for _, _, _, R in samples], dtype=torch.float32) # truncation error for this x_i, x_j, y_i"
   ]
  },
  {
   "cell_type": "code",
   "execution_count": 9,
   "id": "947b16b7",
   "metadata": {},
   "outputs": [],
   "source": [
    "# Define the neural network model\n",
    "class NNModel(nn.Module):\n",
    "    def __init__(self):\n",
    "        super(NNModel, self).__init__()\n",
    "        self.fc1 = nn.Linear(3, 80)\n",
    "        self.fc2 = nn.Linear(80, 80)\n",
    "        self.fc3 = nn.Linear(80, 80)\n",
    "        self.fc4 = nn.Linear(80, 80)\n",
    "        self.fc5 = nn.Linear(80, 80)\n",
    "        self.fc6 = nn.Linear(80, 80)\n",
    "        self.fc7 = nn.Linear(80, 80)\n",
    "        self.fc8 = nn.Linear(80, 80)\n",
    "        self.fc9 = nn.Linear(80, 1)\n",
    "\n",
    "    def forward(self, x):\n",
    "        x = torch.relu(self.fc1(x))\n",
    "        x = torch.relu(self.fc2(x))\n",
    "        x = torch.relu(self.fc3(x))\n",
    "        x = torch.relu(self.fc4(x))\n",
    "        x = torch.relu(self.fc5(x))\n",
    "        x = torch.relu(self.fc6(x))\n",
    "        x = torch.relu(self.fc7(x))\n",
    "        x = torch.relu(self.fc8(x))\n",
    "        x = self.fc9(x)\n",
    "        return x"
   ]
  },
  {
   "cell_type": "code",
   "execution_count": 10,
   "id": "cff1e4f8",
   "metadata": {},
   "outputs": [],
   "source": [
    "# Define the custom loss function\n",
    "def custom_loss(y_true, y_pred):\n",
    "    error = torch.abs(y_pred - y_true)\n",
    "    loss = 2 / (N * (N - 1)) * torch.sum(error)\n",
    "    return loss"
   ]
  },
  {
   "cell_type": "code",
   "execution_count": 11,
   "id": "90888f6c",
   "metadata": {},
   "outputs": [],
   "source": [
    "# Function to compute Euler's method solution\n",
    "def euler_solution(x):\n",
    "    y_euler = torch.zeros_like(x)\n",
    "    y_euler[0] = 0  # Initial condition y(0) = 0\n",
    "    for i in range(1, len(x)):\n",
    "        h = x[i] - x[i-1]\n",
    "        y_euler[i] = euler_step(y_euler[i-1], h)\n",
    "    return y_euler"
   ]
  },
  {
   "cell_type": "code",
   "execution_count": 12,
   "id": "2aa1da9d",
   "metadata": {},
   "outputs": [],
   "source": [
    "# Generate synthetic data for testing\n",
    "torch.manual_seed(0)\n",
    "h = 0.01\n",
    "x_test = torch.arange(0, 4, h)  # Range [0, 4] with 0.01 step\n",
    "y_test_true = A+(T0-A)*torch.exp(-k*x_test) # True solution of the ODE"
   ]
  },
  {
   "cell_type": "code",
   "execution_count": 13,
   "id": "db0fb36f",
   "metadata": {},
   "outputs": [],
   "source": [
    "# Compute the Euler's method solution\n",
    "y_euler = euler_solution(x_test)"
   ]
  },
  {
   "cell_type": "code",
   "execution_count": 14,
   "id": "59361c9f",
   "metadata": {},
   "outputs": [],
   "source": [
    "x_test_for_NN = []\n",
    "for i in range(len(x_test)-1):\n",
    "    x_test_for_NN.append((x_test[i], x_test[i+1], y_test_true[i]))  # x_i, x_j, y_i"
   ]
  },
  {
   "cell_type": "code",
   "execution_count": 15,
   "id": "64c02627",
   "metadata": {},
   "outputs": [],
   "source": [
    "x_test_for_NN = torch.tensor([(x_i, x_j, y_i) for x_i, x_j, y_i in x_test_for_NN], dtype=torch.float32)"
   ]
  },
  {
   "cell_type": "code",
   "execution_count": 43,
   "id": "ad2abca1",
   "metadata": {},
   "outputs": [],
   "source": [
    "# run the model several times to check robustness of the method\n",
    "\n",
    "number_of_iterations = 10\n",
    "y_finals = []\n",
    "for i in range(number_of_iterations):\n",
    "    # Create the neural network model\n",
    "    nn_model = NNModel()\n",
    "\n",
    "    # Define the optimizer\n",
    "    optimizer = optim.Adam(nn_model.parameters(), lr=.005)\n",
    "\n",
    "    # Train the neural network\n",
    "    num_epochs = 50\n",
    "    #losses = []\n",
    "    for epoch in range(num_epochs):\n",
    "        optimizer.zero_grad()\n",
    "        outputs = nn_model(X).flatten()\n",
    "        loss = custom_loss(outputs, y)\n",
    "        loss.backward()\n",
    "        optimizer.step()\n",
    "        \n",
    "    # Predict the truncation error using the neural network\n",
    "    y_pred = nn_model(x_test_for_NN)\n",
    "    y_pred = y_pred.detach().numpy().flatten()\n",
    "    y_pred = np.insert(y_pred,0,0)\n",
    "    \n",
    "#     # Compute the final solution by adding Euler's method output and the predicted truncation error\n",
    "#     y_final = []\n",
    "#     for i in range(len(x_test.numpy())):\n",
    "#         h = x_test[i+1] - x_test[i]\n",
    "#         y_final.append(y_euler[i] + h*y_pred[i])\n",
    "    y_final = y_euler + h*y_pred\n",
    "    y_finals.append(y_final)"
   ]
  },
  {
   "cell_type": "code",
   "execution_count": 17,
   "id": "e1f019e5",
   "metadata": {},
   "outputs": [],
   "source": [
    "# std\n",
    "std_y_finals = np.std(y_finals, axis=0)"
   ]
  },
  {
   "cell_type": "code",
   "execution_count": 18,
   "id": "645147ff",
   "metadata": {},
   "outputs": [
    {
     "data": {
      "image/png": "[encoded data removed]",
      "text/plain": [
       "<Figure size 640x480 with 1 Axes>"
      ]
     },
     "metadata": {},
     "output_type": "display_data"
    }
   ],
   "source": [
    "fig, ax = plt.subplots()\n",
    "sns.boxplot(y=std_y_finals)\n",
    "ax.set(ylabel='Standard deviation')\n",
    "#fig.savefig('graphs/DEM_std_Newton.pdf')"
   ]
  },
  {
   "cell_type": "code",
   "execution_count": 19,
   "id": "a23bce66",
   "metadata": {},
   "outputs": [
    {
     "data": {
      "text/plain": [
       "(0.029395698, 0.0)"
      ]
     },
     "execution_count": 19,
     "metadata": {},
     "output_type": "execute_result"
    }
   ],
   "source": [
    "max(std_y_finals), min(std_y_finals)"
   ]
  },
  {
   "cell_type": "code",
   "execution_count": 20,
   "id": "3457f745",
   "metadata": {},
   "outputs": [],
   "source": [
    "y_final = np.mean(y_finals, axis=0)"
   ]
  },
  {
   "cell_type": "code",
   "execution_count": 21,
   "id": "0c6d64a7",
   "metadata": {},
   "outputs": [
    {
     "data": {
      "image/png": "[encoded data removed]",
      "text/plain": [
       "<Figure size 640x480 with 1 Axes>"
      ]
     },
     "metadata": {},
     "output_type": "display_data"
    }
   ],
   "source": [
    "# Plot the solutions\n",
    "fig, ax = plt.subplots()\n",
    "plt.plot(x_test.numpy(), y_test_true.numpy(), label='Analytic')\n",
    "plt.plot(x_test.numpy()[::15], y_euler.numpy()[::15], '*', label=\"Euler\")\n",
    "plt.plot(x_test.numpy()[5::15], y_final[5::15], '.', label='DEM')\n",
    "#plt.title(\"Comparison of solutions of Netwon's Law of Cooling\")\n",
    "plt.xlabel('t')\n",
    "plt.ylabel('T(t)')\n",
    "plt.legend()\n",
    "plt.grid(True)\n",
    "plt.show()\n",
    "#fig.savefig('graphs/DEM_solutions_Newton.pdf')"
   ]
  },
  {
   "cell_type": "code",
   "execution_count": 22,
   "id": "bb627ac6",
   "metadata": {},
   "outputs": [
    {
     "data": {
      "image/png": "[encoded data removed]",
      "text/plain": [
       "<Figure size 640x480 with 1 Axes>"
      ]
     },
     "metadata": {},
     "output_type": "display_data"
    }
   ],
   "source": [
    "# Plot the error\n",
    "fig, ax = plt.subplots()\n",
    "plt.plot(x_test.numpy(), abs(y_test_true-y_euler) , label='Euler')\n",
    "plt.plot(x_test.numpy(), abs(y_test_true-y_final), label=\"DEM\", linestyle='--')\n",
    "#plt.title(\"Comparison of errors of solutions of Netwon's Law of Cooling\")\n",
    "plt.xlabel('t')\n",
    "plt.ylabel('Error')\n",
    "plt.legend()\n",
    "plt.grid(True)\n",
    "plt.show()\n",
    "#fig.savefig('graphs/DEM_errors_Newton.pdf')"
   ]
  },
  {
   "cell_type": "code",
   "execution_count": 23,
   "id": "06719697",
   "metadata": {},
   "outputs": [
    {
     "name": "stdout",
     "output_type": "stream",
     "text": [
      "Sum of errors for Euler comparing to analytic solution: 0.013\n",
      "Sum of errors for DEM comparing to analytic solution: 0.018\n"
     ]
    }
   ],
   "source": [
    "# Sum of errors\n",
    "print(\"Sum of errors for Euler comparing to analytic solution:\", round(mae(y_test_true, y_euler),3))\n",
    "print(\"Sum of errors for DEM comparing to analytic solution:\", round(mae(y_test_true, y_final),3))"
   ]
  },
  {
   "cell_type": "code",
   "execution_count": 44,
   "id": "cbe00391",
   "metadata": {},
   "outputs": [],
   "source": [
    "# comparison of the errors for different h - here without averaging the results\n",
    "\n",
    "h_list = [0.001, 0.01, 0.1, 1, 2, 3]\n",
    "errors_euler = []\n",
    "errors_DEM = []\n",
    "times_euler = []\n",
    "times_DEM = []\n",
    "for h in h_list:\n",
    "    x_test = torch.arange(0, 4, h)  # Range [0, 4] with h step\n",
    "    y_test_true = A+(T0-A)*torch.exp(-k*x_test) # True solution of the ODE\n",
    "    \n",
    "    # Compute the Euler's method solution\n",
    "    start_time_euler = time.time()  \n",
    "    y_euler = euler_solution(x_test)\n",
    "    end_time_euler = time.time()\n",
    "    total_time_euler = end_time_euler - start_time_euler\n",
    "    times_euler.append(total_time_euler)\n",
    "    \n",
    "    x_test_for_NN = []\n",
    "    for i in range(len(x_test)-1):\n",
    "        x_test_for_NN.append((x_test[i], x_test[i+1], y_test_true[i]))  # x_i, x_j, y_i\n",
    "        \n",
    "    x_test_for_NN = torch.tensor([(x_i, x_j, y_i) for x_i, x_j, y_i in x_test_for_NN], dtype=torch.float32)\n",
    "    \n",
    "    # Predict the truncation error using the neural network\n",
    "    start_time_DEM = time.time()\n",
    "    y_pred = nn_model(x_test_for_NN)\n",
    "    end_time_DEM = time.time()\n",
    "    total_time_DEM = end_time_DEM - start_time_DEM \n",
    "    times_DEM.append(total_time_DEM + total_time_euler) # we add it because DEM uses the euler in final output\n",
    "    \n",
    "    y_pred = y_pred.detach().numpy().flatten()\n",
    "    \n",
    "    y_pred = np.insert(y_pred,0,0)\n",
    "    \n",
    "    # Compute the final solution by adding Euler's method output and the predicted truncation error\n",
    "    y_final = y_euler + h*y_pred\n",
    "    \n",
    "    errors_euler.append(mae(y_test_true, y_euler))\n",
    "    errors_DEM.append(mae(y_test_true, y_final))"
   ]
  },
  {
   "cell_type": "code",
   "execution_count": 45,
   "id": "b7bc97e9",
   "metadata": {},
   "outputs": [
    {
     "name": "stdout",
     "output_type": "stream",
     "text": [
      "Errors from Euler: ['0.001', '0.013', '0.129', '7.799', '15.092', '25.012']\n",
      "Computation time of Euler approximation: ['0.0535', '0.0065', '0.0005', '0.0000', '0.0000', '0.0000']\n"
     ]
    }
   ],
   "source": [
    "print(f\"Errors from Euler: {['%.3f' % elem for elem in errors_euler]}\")\n",
    "print(f\"Computation time of Euler approximation: {['%.4f' % elem for elem in times_euler]}\")"
   ]
  },
  {
   "cell_type": "code",
   "execution_count": 46,
   "id": "2699c637",
   "metadata": {},
   "outputs": [
    {
     "name": "stdout",
     "output_type": "stream",
     "text": [
      "Errors from DEM: ['0.002', '0.019', '0.185', '5.276', '6.918', '17.850']\n",
      "Computation time of DEM approximation: ['0.0614', '0.0068', '0.0006', '0.0001', '0.0001', '0.0001']\n"
     ]
    }
   ],
   "source": [
    "print(f\"Errors from DEM: {['%.3f' % elem for elem in errors_DEM]}\")\n",
    "print(f\"Computation time of DEM approximation: {['%.4f' % elem for elem in times_DEM]}\")"
   ]
  }
 ],
 "metadata": {
  "kernelspec": {
   "display_name": "myenv",
   "language": "python",
   "name": "myenv"
  },
  "language_info": {
   "codemirror_mode": {
    "name": "ipython",
    "version": 3
   },
   "file_extension": ".py",
   "mimetype": "text/x-python",
   "name": "python",
   "nbconvert_exporter": "python",
   "pygments_lexer": "ipython3",
   "version": "3.11.6"
  }
 },
 "nbformat": 4,
 "nbformat_minor": 5
}

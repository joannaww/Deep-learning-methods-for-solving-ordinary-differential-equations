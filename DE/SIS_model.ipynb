{
 "cells": [
  {
   "cell_type": "code",
   "execution_count": 43,
   "id": "9882f7c1",
   "metadata": {},
   "outputs": [],
   "source": [
    "import numpy as np\n",
    "import torch\n",
    "import torch.nn as nn\n",
    "import torch.optim as optim\n",
    "import matplotlib.pyplot as plt\n",
    "from scipy.integrate import solve_ivp\n",
    "import pandas as pd\n",
    "from sklearn.metrics import mean_absolute_error as mae\n",
    "import time\n",
    "\n",
    "import warnings\n",
    "warnings.filterwarnings('ignore')\n",
    "\n",
    "import seaborn as sns\n",
    "import matplotlib as mpl\n",
    "sns.set_style(\"darkgrid\")\n",
    "mpl.rcParams['figure.dpi'] = 100"
   ]
  },
  {
   "cell_type": "markdown",
   "id": "498d0aae",
   "metadata": {},
   "source": [
    "# SIS model\n",
    "\n",
    "$$\\frac{dS}{dt} = -\\beta S I + \\gamma I \\\\\n",
    "\\frac{dI}{dt} = \\beta SI - \\gamma I,$$\n",
    "where $I_0, S_0$ - initial conditions, $S\\left(t\\right) + I\\left(t\\right) = N$ - total population, $\\beta$ - infectivity coefficient, $\\gamma$ - recovery coefficient. \n",
    "\n",
    "- train on [0,20], predict on [0,25]"
   ]
  },
  {
   "cell_type": "code",
   "execution_count": 2,
   "id": "6dcf159b",
   "metadata": {},
   "outputs": [],
   "source": [
    "# Parameters\n",
    "beta = 0.001  # Rate of infection\n",
    "gamma = 0.1  # Rate of recovery"
   ]
  },
  {
   "cell_type": "code",
   "execution_count": 3,
   "id": "9779c6dd",
   "metadata": {},
   "outputs": [],
   "source": [
    "# Generate synthetic data\n",
    "torch.manual_seed(0)\n",
    "x_train = torch.rand(1000) * 20  # Range [0, 20] with 1000 points\n",
    "x_train, _ = torch.sort(x_train)"
   ]
  },
  {
   "cell_type": "code",
   "execution_count": 4,
   "id": "e25a9d08",
   "metadata": {},
   "outputs": [],
   "source": [
    "# Function defining the SIS model equations\n",
    "def SIS_model(t, Y):\n",
    "    S, I = Y\n",
    "    dSdx = -beta*S*I+gamma*I\n",
    "    dIdx = beta*S*I-gamma*I\n",
    "    return [dSdx, dIdx]\n",
    "\n",
    "x_span = (0, 20)  # Time span for integration\n",
    "x_eval = x_train.numpy()  # Time points for evaluation\n",
    "\n",
    "# Initial conditions\n",
    "y0 = [990, 10]\n",
    "\n",
    "# Solve the ODEs\n",
    "sol = solve_ivp(SIS_model, x_span, y0, dense_output=True, rtol=10**(-6))\n",
    "\n",
    "y_eval = sol.sol(x_eval)"
   ]
  },
  {
   "cell_type": "code",
   "execution_count": 5,
   "id": "8ef3494c",
   "metadata": {},
   "outputs": [],
   "source": [
    "y1_true = torch.from_numpy(y_eval[0])\n",
    "y2_true = torch.from_numpy(y_eval[1])"
   ]
  },
  {
   "cell_type": "code",
   "execution_count": 6,
   "id": "6aba1cfa",
   "metadata": {},
   "outputs": [],
   "source": [
    "def f1(y1, y2):\n",
    "    return -beta*y1*y2+gamma*y2\n",
    "def f2(y1, y2):\n",
    "    return beta*y1*y2-gamma*y2"
   ]
  },
  {
   "cell_type": "code",
   "execution_count": 7,
   "id": "bac3c5eb",
   "metadata": {},
   "outputs": [],
   "source": [
    "# Calculate the true local truncation error\n",
    "def true_truncation_error(x_i, x_j, y1_i, y1_j, y2_i, y2_j, eq):\n",
    "    if eq == 'f1':\n",
    "        return (1/(x_j - x_i) ** 2)*(y1_j - y1_i - (x_j - x_i) * f1(y1_i, y2_i))\n",
    "    elif eq == 'f2':\n",
    "        return (1/(x_j - x_i) ** 2)*(y2_j - y2_i - (x_j - x_i) * f2(y1_i, y2_i))"
   ]
  },
  {
   "cell_type": "code",
   "execution_count": 8,
   "id": "ed22d676",
   "metadata": {},
   "outputs": [],
   "source": [
    "# Generate training samples for the neural network\n",
    "N = len(x_train)\n",
    "samples_y1 = []\n",
    "samples_y2 = []\n",
    "for i in range(N):\n",
    "    for j in range(i + 1, N):\n",
    "        x_i, x_j = x_train[i], x_train[j]\n",
    "        y1_i, y1_j = y1_true[i], y1_true[j]\n",
    "        y2_i, y2_j = y2_true[i], y2_true[j]\n",
    "        samples_y1.append((x_i, x_j, y1_i, true_truncation_error(x_i, x_j, y1_i, y1_j, y2_i, y2_j, 'f1')))\n",
    "        samples_y2.append((x_i, x_j, y2_i, true_truncation_error(x_i, x_j, y1_i, y1_j, y2_i, y2_j, 'f2')))\n",
    "\n",
    "# Shuffle the samples\n",
    "np.random.shuffle(samples_y1)\n",
    "np.random.shuffle(samples_y2)"
   ]
  },
  {
   "cell_type": "code",
   "execution_count": 9,
   "id": "12dd2da5",
   "metadata": {},
   "outputs": [],
   "source": [
    "# Prepare the data for training\n",
    "X1 = torch.tensor([(x_i, x_j, y_i) for x_i, x_j, y_i, _ in samples_y1], dtype=torch.float32) # x_i, x_j, y_i\n",
    "X2 = torch.tensor([(x_i, x_j, y_i) for x_i, x_j, y_i, _ in samples_y2], dtype=torch.float32) # x_i, x_j, y_i\n",
    "y1 = torch.tensor([R for _, _, _, R in samples_y1], dtype=torch.float32) # truncation error for this x_i, x_j, y_i\n",
    "y2 = torch.tensor([R for _, _, _, R in samples_y2], dtype=torch.float32) # truncation error for this x_i, x_j, y_i\n"
   ]
  },
  {
   "cell_type": "code",
   "execution_count": 10,
   "id": "2414a315",
   "metadata": {},
   "outputs": [],
   "source": [
    "# Define the neural network model\n",
    "class NNModel(nn.Module):\n",
    "    def __init__(self):\n",
    "        super(NNModel, self).__init__()\n",
    "        self.fc1 = nn.Linear(3, 80)\n",
    "        self.fc2 = nn.Linear(80, 80)\n",
    "        self.fc3 = nn.Linear(80, 80)\n",
    "        self.fc4 = nn.Linear(80, 80)\n",
    "        self.fc5 = nn.Linear(80, 80)\n",
    "        self.fc6 = nn.Linear(80, 80)\n",
    "        self.fc7 = nn.Linear(80, 80)\n",
    "        self.fc8 = nn.Linear(80, 80)\n",
    "        self.fc9 = nn.Linear(80, 1)\n",
    "\n",
    "    def forward(self, x):\n",
    "        x = torch.relu(self.fc1(x))\n",
    "        x = torch.relu(self.fc2(x))\n",
    "        x = torch.relu(self.fc3(x))\n",
    "        x = torch.relu(self.fc4(x))\n",
    "        x = torch.relu(self.fc5(x))\n",
    "        x = torch.relu(self.fc6(x))\n",
    "        x = torch.relu(self.fc7(x))\n",
    "        x = torch.relu(self.fc8(x))\n",
    "        x = self.fc9(x)\n",
    "        return x"
   ]
  },
  {
   "cell_type": "code",
   "execution_count": 11,
   "id": "9e3ebb91",
   "metadata": {},
   "outputs": [],
   "source": [
    "# Define the custom loss function\n",
    "def custom_loss(y_true, y_pred):\n",
    "    error = torch.abs(y_pred - y_true)\n",
    "    loss = 2 / (N * (N - 1)) * torch.sum(error)\n",
    "    return loss"
   ]
  },
  {
   "cell_type": "code",
   "execution_count": 12,
   "id": "41c9076d",
   "metadata": {},
   "outputs": [],
   "source": [
    "# Generate synthetic data - data for testing\n",
    "torch.manual_seed(0)\n",
    "h = 0.01\n",
    "x_test = torch.arange(0, 25, h)  # Range [0, 25] \n",
    "N = len(x_test)"
   ]
  },
  {
   "cell_type": "code",
   "execution_count": 13,
   "id": "02bf692e",
   "metadata": {},
   "outputs": [],
   "source": [
    "x_span = (0, 25)  # Time span for integration\n",
    "x_eval = x_test.numpy()  # Time points for evaluation\n",
    "\n",
    "# Initial conditions\n",
    "y0 = [990, 10]\n",
    "\n",
    "# Solve the ODEs\n",
    "sol = solve_ivp(SIS_model, x_span, y0, dense_output=True)\n",
    "\n",
    "y_eval = sol.sol(x_eval)"
   ]
  },
  {
   "cell_type": "code",
   "execution_count": 14,
   "id": "08f2fffa",
   "metadata": {},
   "outputs": [],
   "source": [
    "y1_test_true = torch.from_numpy(y_eval[0])\n",
    "y2_test_true = torch.from_numpy(y_eval[1])"
   ]
  },
  {
   "cell_type": "code",
   "execution_count": 15,
   "id": "1d10e2ca",
   "metadata": {},
   "outputs": [],
   "source": [
    "# Compute the Euler's method solution\n",
    "\n",
    "# Function to compute the derivatives (Lotka-Volterra equations)\n",
    "def SIS_model(y1, y2):\n",
    "    dy1_dx = -beta*y1*y2+gamma*y2\n",
    "    dy2_dx = beta*y1*y2-gamma*y2\n",
    "    return dy1_dx, dy2_dx\n",
    "\n",
    "# Initial populations\n",
    "y1_0 = 990  # Initial prey population\n",
    "y2_0 = 10  # Initial predator population\n",
    "\n",
    "# Time parameters\n",
    "t0 = 0    # Initial time\n",
    "T = 25   # Total time\n",
    "dt = 0.01  # Time step size - h\n",
    "\n",
    "# Number of time steps\n",
    "num_steps = int(T / dt)\n",
    "\n",
    "# Arrays to store population values\n",
    "y1_values = np.zeros(num_steps)\n",
    "y2_values = np.zeros(num_steps)\n",
    "time_values = np.linspace(t0, T, num_steps)\n",
    "\n",
    "# Set initial values\n",
    "y1_values[0] = y1_0\n",
    "y2_values[0] = y2_0\n",
    "\n",
    "# Perform Euler's method\n",
    "for i in range(num_steps-1):\n",
    "#     dy1_dx, dy2_dx = SIS_model(y1_values[i], y2_values[i], beta, gamma)\n",
    "    dy1_dx, dy2_dx = SIS_model(y1_values[i], y2_values[i])\n",
    "    y1_values[i+1] = y1_values[i] + dt * dy1_dx\n",
    "    y2_values[i+1] = y2_values[i] + dt * dy2_dx\n",
    "\n",
    "y1_euler = y1_values\n",
    "y2_euler = y2_values"
   ]
  },
  {
   "cell_type": "code",
   "execution_count": 16,
   "id": "59d4a4f5",
   "metadata": {},
   "outputs": [],
   "source": [
    "x_test_for_NN1 = []\n",
    "x_test_for_NN2 = []\n",
    "for i in range(len(x_test)-1):\n",
    "    x_test_for_NN1.append((x_test[i], x_test[i+1], y1_test_true[i]))  # x_i, x_j, y_i\n",
    "    x_test_for_NN2.append((x_test[i], x_test[i+1], y2_test_true[i]))  # x_i, x_j, y_i"
   ]
  },
  {
   "cell_type": "code",
   "execution_count": 17,
   "id": "8828a5f3",
   "metadata": {},
   "outputs": [],
   "source": [
    "x_test_for_NN1 = torch.tensor([(x_i, x_j, y_i) for x_i, x_j, y_i in x_test_for_NN1], dtype=torch.float32)\n",
    "x_test_for_NN2 = torch.tensor([(x_i, x_j, y_i) for x_i, x_j, y_i in x_test_for_NN2], dtype=torch.float32)"
   ]
  },
  {
   "cell_type": "code",
   "execution_count": 20,
   "id": "8df5b3ae",
   "metadata": {},
   "outputs": [
    {
     "name": "stdout",
     "output_type": "stream",
     "text": [
      "0\n",
      "1\n",
      "2\n",
      "3\n",
      "4\n",
      "5\n",
      "6\n",
      "7\n",
      "8\n",
      "9\n"
     ]
    }
   ],
   "source": [
    "# run the model several times to check robustness of the method\n",
    "number_of_iterations = 10\n",
    "y1_finals = []\n",
    "y2_finals = []\n",
    "for i in range(number_of_iterations):\n",
    "    print(i)\n",
    "    # Create the neural network model\n",
    "    nn_model_y1 = NNModel()\n",
    "    nn_model_y2 = NNModel()\n",
    "\n",
    "    # Define the optimizer\n",
    "    optimizer_y1 = optim.Adam(nn_model_y1.parameters(), lr=.005)\n",
    "    optimizer_y2 = optim.Adam(nn_model_y2.parameters(), lr=.005)\n",
    "\n",
    "    # Train the neural network\n",
    "    num_epochs = 50\n",
    "    #losses = []\n",
    "    for epoch in range(num_epochs):\n",
    "        optimizer_y1.zero_grad()\n",
    "        optimizer_y2.zero_grad()\n",
    "\n",
    "        outputs_y1 = nn_model_y1(X1).flatten()\n",
    "        outputs_y2 = nn_model_y2(X2).flatten()\n",
    "\n",
    "        loss = custom_loss(outputs_y1, y1) + custom_loss(outputs_y2, y2)\n",
    "        loss.backward()\n",
    "\n",
    "        optimizer_y1.step()\n",
    "        optimizer_y2.step()\n",
    "        \n",
    "    # Predict the truncation error using the neural network\n",
    "    h = 0.01\n",
    "    y1_pred = nn_model_y1(x_test_for_NN1)\n",
    "    y2_pred = nn_model_y2(x_test_for_NN2) \n",
    "\n",
    "    y1_pred = y1_pred.detach().numpy().flatten()\n",
    "    y2_pred = y2_pred.detach().numpy().flatten()\n",
    "\n",
    "    y1_pred = np.insert(y1_pred,0,0)\n",
    "    y2_pred = np.insert(y2_pred,0,0)\n",
    "\n",
    "    # Compute the final solution by adding Euler's method output and the predicted truncation error\n",
    "    y1_final = y1_euler + h*y1_pred\n",
    "    y2_final = y2_euler + h*y2_pred\n",
    "\n",
    "    y1_finals.append(y1_final)\n",
    "    y2_finals.append(y2_final)"
   ]
  },
  {
   "cell_type": "code",
   "execution_count": 22,
   "id": "00141476",
   "metadata": {},
   "outputs": [],
   "source": [
    "# std\n",
    "std_y1_finals = np.std(y1_finals, axis=0)\n",
    "std_y2_finals = np.std(y2_finals, axis=0)\n",
    "\n",
    "df_std_y1y2 = pd.DataFrame({'S': std_y1_finals, 'I': std_y2_finals})"
   ]
  },
  {
   "cell_type": "code",
   "execution_count": 23,
   "id": "3590961a",
   "metadata": {},
   "outputs": [
    {
     "data": {
      "image/png": "[encoded data removed]",
      "text/plain": [
       "<Figure size 640x480 with 1 Axes>"
      ]
     },
     "metadata": {},
     "output_type": "display_data"
    }
   ],
   "source": [
    "fig, ax = plt.subplots()\n",
    "ax = sns.boxplot(data=df_std_y1y2)\n",
    "ax.set(ylabel='Standard deviation')\n",
    "#fig.savefig('graphs/DEM_std_SIS.pdf')"
   ]
  },
  {
   "cell_type": "code",
   "execution_count": 24,
   "id": "ce03476b",
   "metadata": {},
   "outputs": [],
   "source": [
    "y1_final = np.mean(y1_finals, axis=0)\n",
    "y2_final = np.mean(y2_finals, axis=0)"
   ]
  },
  {
   "cell_type": "code",
   "execution_count": 25,
   "id": "2013e02a",
   "metadata": {},
   "outputs": [
    {
     "data": {
      "image/png": "[encoded data removed]",
      "text/plain": [
       "<Figure size 640x480 with 1 Axes>"
      ]
     },
     "metadata": {},
     "output_type": "display_data"
    }
   ],
   "source": [
    "# Plot the solutions\n",
    "fig, ax = plt.subplots()\n",
    "plt.plot(x_test.numpy(), y1_test_true.numpy(), label='RK4 S')\n",
    "plt.plot(x_test.numpy()[::170], y1_euler[::170], '*', label=\"Euler S\")\n",
    "plt.plot(x_test.numpy()[80::170], y1_final[80::170], '.', label='DEM S')\n",
    "plt.plot(x_test.numpy(), y2_test_true.numpy(), label='RK4 I')\n",
    "plt.plot(x_test.numpy()[::170], y2_euler[::170], '*', label=\"Euler I\")\n",
    "plt.plot(x_test.numpy()[80::170], y2_final[80::170], '.', label='DEM I')\n",
    "#plt.title(\"Comparison of solutions of SIS model\")\n",
    "plt.xlabel('t')\n",
    "plt.ylabel('y(t)')\n",
    "plt.legend()\n",
    "plt.grid(True)\n",
    "plt.show()\n",
    "#fig.savefig('graphs/DEM_solutions_SIS.pdf')"
   ]
  },
  {
   "cell_type": "code",
   "execution_count": 26,
   "id": "c83a9dcb",
   "metadata": {},
   "outputs": [
    {
     "data": {
      "image/png": "[encoded data removed]",
      "text/plain": [
       "<Figure size 1000x500 with 2 Axes>"
      ]
     },
     "metadata": {},
     "output_type": "display_data"
    }
   ],
   "source": [
    "# Plot the errors\n",
    "# h = 0.01\n",
    "fig, axs = plt.subplots(1, 2, figsize=(10, 5))\n",
    "\n",
    "axs[0].plot(x_test.numpy(), abs(y1_euler-y1_test_true.numpy()), label=\"Euler S\")\n",
    "axs[0].plot(x_test.numpy(), abs(y1_final-y1_test_true.numpy()), label='DEM S', linestyle='--')\n",
    "#axs[0].set_title('Comparison of errors of solutions of S from SIS model')\n",
    "axs[0].set_xlabel('t')\n",
    "axs[0].set_ylabel('Error')\n",
    "axs[0].legend()\n",
    "\n",
    "axs[1].plot(x_test.numpy(), abs(y2_euler-y2_test_true.numpy()), label=\"Euler I\")\n",
    "axs[1].plot(x_test.numpy(), abs(y2_final-y2_test_true.numpy()), label='DEM I', linestyle='--')\n",
    "#axs[1].set_title('Comparison of errors of solutions of I from SIS model')\n",
    "axs[1].set_xlabel('t')\n",
    "axs[1].set_ylabel('Error')\n",
    "axs[1].legend()\n",
    "\n",
    "fig.tight_layout()\n",
    "#fig.savefig('graphs/DEM_errors_SIS.pdf')"
   ]
  },
  {
   "cell_type": "code",
   "execution_count": 35,
   "id": "d89b7004",
   "metadata": {},
   "outputs": [
    {
     "data": {
      "text/plain": [
       "array([990.        , 989.85379716, 989.76403871, ..., 100.00339276,\n",
       "       100.00339163, 100.00339051])"
      ]
     },
     "execution_count": 35,
     "metadata": {},
     "output_type": "execute_result"
    }
   ],
   "source": [
    "y1_final"
   ]
  },
  {
   "cell_type": "code",
   "execution_count": 37,
   "id": "a35e4fcd",
   "metadata": {},
   "outputs": [
    {
     "data": {
      "text/plain": [
       "array([990.        , 989.91060727, 989.82042458, ..., 100.00658441,\n",
       "       100.00653453, 100.00648152])"
      ]
     },
     "execution_count": 37,
     "metadata": {},
     "output_type": "execute_result"
    }
   ],
   "source": [
    "y1_test_true.numpy()"
   ]
  },
  {
   "cell_type": "code",
   "execution_count": 38,
   "id": "e48b847f",
   "metadata": {},
   "outputs": [
    {
     "name": "stdout",
     "output_type": "stream",
     "text": [
      "Sum of errors for Euler comparing to RK4 solution for y1=S: 0.545\n",
      "Sum of errors for Euler comparing to RK4 solution for y2=I: 0.545\n",
      "Sum of errors for DEM comparing to RK4 solution for y1=S 0.544\n",
      "Sum of errors for DEM comparing to RK4 solution for y2=I 0.549\n"
     ]
    }
   ],
   "source": [
    "# Sum of errors\n",
    "print(\"Sum of errors for Euler comparing to RK4 solution for y1=S:\", round(mae(y1_euler, y1_test_true),3))\n",
    "print(\"Sum of errors for Euler comparing to RK4 solution for y2=I:\", round(mae(y2_euler, y2_test_true),3))\n",
    "\n",
    "print(\"Sum of errors for DEM comparing to RK4 solution for y1=S\", round(mae(y1_final, y1_test_true),3))\n",
    "print(\"Sum of errors for DEM comparing to RK4 solution for y2=I\", round(mae(y2_final, y2_test_true),3))"
   ]
  },
  {
   "cell_type": "code",
   "execution_count": 80,
   "id": "8311b562",
   "metadata": {},
   "outputs": [],
   "source": [
    "# comparison of the errors for different h - here without averaging over 10 models\n",
    "h_list = [0.001, 0.01, 0.1, 1, 2, 3]\n",
    "errors_euler_y1 = []\n",
    "errors_DEM_y1 = []\n",
    "errors_euler_y2 = []\n",
    "errors_DEM_y2 = []\n",
    "times_euler = []\n",
    "times_DEM = []\n",
    "for h in h_list:\n",
    "    x_test = torch.arange(0, 25, h)  # Range [0, 25] \n",
    "    N = len(x_test)\n",
    "    \n",
    "    # Function defining the SIS model equations\n",
    "    def SIS_model(t, Y):\n",
    "        S, I = Y\n",
    "        dSdx = -beta*S*I+gamma*I\n",
    "        dIdx = beta*S*I-gamma*I\n",
    "        return [dSdx, dIdx]\n",
    "    \n",
    "    x_span = (0, 25)  # Time span for integration\n",
    "    x_eval = x_test.numpy()  # Time points for evaluation\n",
    "\n",
    "    # Initial conditions\n",
    "    y0 = [990, 10]\n",
    "    \n",
    "    # Solve the ODEs\n",
    "    sol = solve_ivp(SIS_model, x_span, y0, dense_output=True)\n",
    "\n",
    "    y_eval = sol.sol(x_eval)\n",
    "    \n",
    "    y1_test_true = torch.from_numpy(y_eval[0])\n",
    "    y2_test_true = torch.from_numpy(y_eval[1])\n",
    "    \n",
    "    # Function to compute the derivatives (SIS equations)\n",
    "    def SIS_model(y1, y2):\n",
    "        dy1_dx = -beta*y1*y2+gamma*y2\n",
    "        dy2_dx = beta*y1*y2-gamma*y2\n",
    "        return dy1_dx, dy2_dx\n",
    "\n",
    "    # Euler solution\n",
    "    # Initial populations\n",
    "    y1_0 = 990  # Initial prey population\n",
    "    y2_0 = 10 # Initial predator population\n",
    "\n",
    "    # Time parameters\n",
    "    t0 = 0    # Initial time\n",
    "    T = 25   # Total time\n",
    "    dt = h  # Time step size - h\n",
    "\n",
    "    # Number of time steps\n",
    "#     num_steps = int(T / dt)\n",
    "    num_steps = len(x_test)\n",
    "    time_values = np.linspace(t0, T, num_steps)\n",
    "    \n",
    "    start_time_euler = time.time()\n",
    "\n",
    "    # Arrays to store population values\n",
    "    y1_values = np.zeros(num_steps)\n",
    "    y2_values = np.zeros(num_steps)\n",
    "\n",
    "    # Set initial values\n",
    "    y1_values[0] = y1_0\n",
    "    y2_values[0] = y2_0\n",
    "\n",
    "    # Perform Euler's method\n",
    "    for i in range(num_steps-1):\n",
    "        dy1_dx, dy2_dx = SIS_model(y1_values[i], y2_values[i])\n",
    "        dt = x_test[i+1] - x_test[i]\n",
    "        dt = dt.numpy()\n",
    "        y1_values[i+1] = y1_values[i] + dt * dy1_dx\n",
    "        y2_values[i+1] = y2_values[i] + dt * dy2_dx\n",
    "    end_time_euler = time.time()\n",
    "    total_time_euler = end_time_euler - start_time_euler\n",
    "    times_euler.append(total_time_euler)\n",
    "\n",
    "    y1_euler = y1_values\n",
    "    y2_euler = y2_values\n",
    "    \n",
    "    x_test_for_NN1 = []\n",
    "    x_test_for_NN2 = []\n",
    "    for i in range(len(x_test)-1):\n",
    "        x_test_for_NN1.append((x_test[i], x_test[i+1], y1_test_true[i]))  # x_i, x_j, y_i\n",
    "        x_test_for_NN2.append((x_test[i], x_test[i+1], y2_test_true[i]))  # x_i, x_j, y_i\n",
    "        \n",
    "    x_test_for_NN1 = torch.tensor([(x_i, x_j, y_i) for x_i, x_j, y_i in x_test_for_NN1], dtype=torch.float32)\n",
    "    x_test_for_NN2 = torch.tensor([(x_i, x_j, y_i) for x_i, x_j, y_i in x_test_for_NN2], dtype=torch.float32)\n",
    "    \n",
    "    # Predict the truncation error using the neural network\n",
    "    start_time_DEM = time.time()\n",
    "    y1_pred = nn_model_y1(x_test_for_NN1)\n",
    "    y2_pred = nn_model_y2(x_test_for_NN2)\n",
    "    end_time_DEM = time.time()\n",
    "    total_time_DEM = end_time_DEM - start_time_DEM\n",
    "    times_DEM.append(total_time_DEM+total_time_euler)\n",
    "    \n",
    "    y1_pred = y1_pred.detach().numpy().flatten()\n",
    "    y2_pred = y2_pred.detach().numpy().flatten()\n",
    "    \n",
    "    y1_pred = np.insert(y1_pred,0,0)\n",
    "    y2_pred = np.insert(y2_pred,0,0)\n",
    "    \n",
    "    # Compute the final solution by adding Euler's method output and the predicted truncation error\n",
    "    y1_final = y1_euler + h*y1_pred\n",
    "    y2_final = y2_euler + h*y2_pred\n",
    "    \n",
    "    errors_euler_y1.append(mae(y1_euler, y1_test_true.numpy()))\n",
    "    errors_euler_y2.append(mae(y2_euler, y2_test_true.numpy()))\n",
    "    \n",
    "    errors_DEM_y1.append(mae(y1_final, y1_test_true.numpy()))\n",
    "    errors_DEM_y2.append(mae(y2_final, y2_test_true.numpy()))"
   ]
  },
  {
   "cell_type": "code",
   "execution_count": 81,
   "id": "5e23d828",
   "metadata": {},
   "outputs": [
    {
     "name": "stdout",
     "output_type": "stream",
     "text": [
      "Errors from Euler for S: ['0.136', '0.545', '4.627', '43.206', '81.725', '259.205']\n",
      "Errors from DEM for S: ['0.137', '0.556', '4.731', '44.337', '83.879', '262.668']\n",
      "-----\n",
      "Errors from Euler for I: ['0.136', '0.545', '4.627', '43.206', '81.725', '259.205']\n",
      "Errors from DEM for I: ['0.136', '0.547', '4.663', '43.546', '81.673', '259.223']\n"
     ]
    }
   ],
   "source": [
    "print(f\"Errors from Euler for S: {['%.3f' % elem for elem in errors_euler_y1]}\")\n",
    "print(f\"Errors from DEM for S: {['%.3f' % elem for elem in errors_DEM_y1]}\")\n",
    "print('-----')\n",
    "print(f\"Errors from Euler for I: {['%.3f' % elem for elem in errors_euler_y2]}\")\n",
    "print(f\"Errors from DEM for I: {['%.3f' % elem for elem in errors_DEM_y2]}\")"
   ]
  },
  {
   "cell_type": "code",
   "execution_count": 82,
   "id": "de1b0cce",
   "metadata": {},
   "outputs": [
    {
     "name": "stdout",
     "output_type": "stream",
     "text": [
      "Computation time of Euler approximation: ['0.1342', '0.0137', '0.0014', '0.0001', '0.0001', '0.0001']\n",
      "Computation time of DEM approximation: ['0.1938', '0.0188', '0.0018', '0.0005', '0.0002', '0.0002']\n"
     ]
    }
   ],
   "source": [
    "print(f\"Computation time of Euler approximation: {['%.4f' % elem for elem in times_euler]}\")\n",
    "print(f\"Computation time of DEM approximation: {['%.4f' % elem for elem in times_DEM]}\")"
   ]
  },
  {
   "cell_type": "code",
   "execution_count": 63,
   "id": "49ae15c2",
   "metadata": {},
   "outputs": [],
   "source": [
    "# Define Euler's method\n",
    "def euler_step(y, h):\n",
    "    return y + h * SIS_model(y[0], y[1])"
   ]
  },
  {
   "cell_type": "code",
   "execution_count": 64,
   "id": "4704f36b",
   "metadata": {},
   "outputs": [],
   "source": [
    "# Function to compute Euler's method solution\n",
    "def euler_solution(x):\n",
    "    y1_values = torch.zeros_like(x)\n",
    "    y2_values = torch.zeros_like(x)\n",
    "\n",
    "    y1_values[0] = y1_0\n",
    "    y2_values[0] = y2_0\n",
    "    for i in range(1, len(x[0])):\n",
    "        h = x[i] - x[i-1]\n",
    "        y1_values[i] = euler_step(y1_values[i-1], h)\n",
    "        y2_values[i] = euler_step(y2_values[i-1], h)\n",
    "    return y1_values, y2_values"
   ]
  },
  {
   "cell_type": "code",
   "execution_count": 65,
   "id": "e439b40e",
   "metadata": {},
   "outputs": [
    {
     "ename": "IndexError",
     "evalue": "invalid index of a 0-dim tensor. Use `tensor.item()` in Python or `tensor.item<T>()` in C++ to convert a 0-dim tensor to a number",
     "output_type": "error",
     "traceback": [
      "\u001b[0;31m---------------------------------------------------------------------------\u001b[0m",
      "\u001b[0;31mIndexError\u001b[0m                                Traceback (most recent call last)",
      "Cell \u001b[0;32mIn[65], line 57\u001b[0m\n\u001b[1;32m     53\u001b[0m time_values \u001b[38;5;241m=\u001b[39m np\u001b[38;5;241m.\u001b[39mlinspace(t0, T, num_steps)\n\u001b[1;32m     55\u001b[0m start_time_euler \u001b[38;5;241m=\u001b[39m time\u001b[38;5;241m.\u001b[39mtime()\n\u001b[0;32m---> 57\u001b[0m y1_euler, y2_euler \u001b[38;5;241m=\u001b[39m \u001b[43meuler_solution\u001b[49m\u001b[43m(\u001b[49m\u001b[43mx_test\u001b[49m\u001b[43m)\u001b[49m\n\u001b[1;32m     59\u001b[0m end_time_euler \u001b[38;5;241m=\u001b[39m time\u001b[38;5;241m.\u001b[39mtime()\n\u001b[1;32m     60\u001b[0m total_time_euler \u001b[38;5;241m=\u001b[39m end_time_euler \u001b[38;5;241m-\u001b[39m start_time_euler\n",
      "Cell \u001b[0;32mIn[64], line 15\u001b[0m, in \u001b[0;36meuler_solution\u001b[0;34m(x)\u001b[0m\n\u001b[1;32m     11\u001b[0m         h \u001b[38;5;241m=\u001b[39m x[i] \u001b[38;5;241m-\u001b[39m x[i\u001b[38;5;241m-\u001b[39m\u001b[38;5;241m1\u001b[39m]\n\u001b[1;32m     12\u001b[0m         \u001b[38;5;66;03m#dy1_dx, dy2_dx = SIS_model(y1_values[i], y2_values[i])\u001b[39;00m\n\u001b[1;32m     13\u001b[0m \u001b[38;5;66;03m#         y1_values[i+1] = y1_values[i] + h * dy1_dx\u001b[39;00m\n\u001b[1;32m     14\u001b[0m \u001b[38;5;66;03m#         y2_values[i+1] = y2_values[i] + h * dy2_dx\u001b[39;00m\n\u001b[0;32m---> 15\u001b[0m         y1_values[i] \u001b[38;5;241m=\u001b[39m \u001b[43meuler_step\u001b[49m\u001b[43m(\u001b[49m\u001b[43my1_values\u001b[49m\u001b[43m[\u001b[49m\u001b[43mi\u001b[49m\u001b[38;5;241;43m-\u001b[39;49m\u001b[38;5;241;43m1\u001b[39;49m\u001b[43m]\u001b[49m\u001b[43m,\u001b[49m\u001b[43m \u001b[49m\u001b[43mh\u001b[49m\u001b[43m)\u001b[49m\n\u001b[1;32m     16\u001b[0m         y2_values[i] \u001b[38;5;241m=\u001b[39m euler_step(y2_values[i\u001b[38;5;241m-\u001b[39m\u001b[38;5;241m1\u001b[39m], h)\n\u001b[1;32m     17\u001b[0m     \u001b[38;5;28;01mreturn\u001b[39;00m y1_values, y2_values\n",
      "Cell \u001b[0;32mIn[63], line 3\u001b[0m, in \u001b[0;36meuler_step\u001b[0;34m(y, h)\u001b[0m\n\u001b[1;32m      2\u001b[0m \u001b[38;5;28;01mdef\u001b[39;00m \u001b[38;5;21meuler_step\u001b[39m(y, h):\n\u001b[0;32m----> 3\u001b[0m     \u001b[38;5;28;01mreturn\u001b[39;00m y \u001b[38;5;241m+\u001b[39m h \u001b[38;5;241m*\u001b[39m SIS_model(\u001b[43my\u001b[49m\u001b[43m[\u001b[49m\u001b[38;5;241;43m0\u001b[39;49m\u001b[43m]\u001b[49m, y[\u001b[38;5;241m1\u001b[39m])\n",
      "\u001b[0;31mIndexError\u001b[0m: invalid index of a 0-dim tensor. Use `tensor.item()` in Python or `tensor.item<T>()` in C++ to convert a 0-dim tensor to a number"
     ]
    }
   ],
   "source": [
    "# comparison of the errors for different h - here without averaging over 10 models\n",
    "h_list = [0.001, 0.01, 0.1, 1, 2, 3]\n",
    "errors_euler_y1 = []\n",
    "errors_DEM_y1 = []\n",
    "errors_euler_y2 = []\n",
    "errors_DEM_y2 = []\n",
    "times_euler = []\n",
    "times_DEM = []\n",
    "for h in h_list:\n",
    "    x_test = torch.arange(0, 25, h)  # Range [0, 25] \n",
    "    N = len(x_test)\n",
    "    \n",
    "    # Function defining the SIS model equations\n",
    "    def SIS_model(t, Y):\n",
    "        S, I = Y\n",
    "        dSdx = -beta*S*I+gamma*I\n",
    "        dIdx = beta*S*I-gamma*I\n",
    "        return [dSdx, dIdx]\n",
    "    \n",
    "    x_span = (0, 25)  # Time span for integration\n",
    "    x_eval = x_test.numpy()  # Time points for evaluation\n",
    "\n",
    "    # Initial conditions\n",
    "    y0 = [990, 10]\n",
    "    \n",
    "    # Solve the ODEs\n",
    "    sol = solve_ivp(SIS_model, x_span, y0, dense_output=True)\n",
    "\n",
    "    y_eval = sol.sol(x_eval)\n",
    "    \n",
    "    y1_test_true = torch.from_numpy(y_eval[0])\n",
    "    y2_test_true = torch.from_numpy(y_eval[1])\n",
    "    \n",
    "    # Function to compute the derivatives (SIS equations)\n",
    "    def SIS_model(y1, y2):\n",
    "        dy1_dx = -beta*y1*y2+gamma*y2\n",
    "        dy2_dx = beta*y1*y2-gamma*y2\n",
    "        return dy1_dx, dy2_dx\n",
    "\n",
    "    # Euler solution\n",
    "    # Initial populations\n",
    "    y1_0 = 990  # Initial prey population\n",
    "    y2_0 = 10 # Initial predator population\n",
    "\n",
    "    # Time parameters\n",
    "    t0 = 0    # Initial time\n",
    "    T = 25   # Total time\n",
    "    dt = h  # Time step size - h\n",
    "\n",
    "    # Number of time steps\n",
    "#     num_steps = int(T / dt)\n",
    "    num_steps = len(x_test)\n",
    "    time_values = np.linspace(t0, T, num_steps)\n",
    "    \n",
    "    start_time_euler = time.time()\n",
    "\n",
    "    y1_euler, y2_euler = euler_solution(x_test)\n",
    "    \n",
    "    end_time_euler = time.time()\n",
    "    total_time_euler = end_time_euler - start_time_euler\n",
    "    times_euler.append(total_time_euler)\n",
    "    \n",
    "    x_test_for_NN1 = []\n",
    "    x_test_for_NN2 = []\n",
    "    for i in range(len(x_test)-1):\n",
    "        x_test_for_NN1.append((x_test[i], x_test[i+1], y1_test_true[i]))  # x_i, x_j, y_i\n",
    "        x_test_for_NN2.append((x_test[i], x_test[i+1], y2_test_true[i]))  # x_i, x_j, y_i\n",
    "        \n",
    "    x_test_for_NN1 = torch.tensor([(x_i, x_j, y_i) for x_i, x_j, y_i in x_test_for_NN1], dtype=torch.float32)\n",
    "    x_test_for_NN2 = torch.tensor([(x_i, x_j, y_i) for x_i, x_j, y_i in x_test_for_NN2], dtype=torch.float32)\n",
    "    \n",
    "    # Predict the truncation error using the neural network\n",
    "    start_time_DEM = time.time()\n",
    "    y1_pred = nn_model_y1(x_test_for_NN1)\n",
    "    y2_pred = nn_model_y2(x_test_for_NN2)\n",
    "    end_time_DEM = time.time()\n",
    "    total_time_DEM = end_time_DEM - start_time_DEM\n",
    "    times_DEM.append(total_time_DEM)\n",
    "    \n",
    "    y1_pred = y1_pred.detach().numpy().flatten()\n",
    "    y2_pred = y2_pred.detach().numpy().flatten()\n",
    "    \n",
    "    y1_pred = np.insert(y1_pred,0,0)\n",
    "    y2_pred = np.insert(y2_pred,0,0)\n",
    "    \n",
    "    # Compute the final solution by adding Euler's method output and the predicted truncation error\n",
    "    y1_final = y1_euler + h*y1_pred\n",
    "    y2_final = y2_euler + h*y2_pred\n",
    "    \n",
    "    errors_euler_y1.append(mae(y1_euler, y1_test_true.numpy()))\n",
    "    errors_euler_y2.append(mae(y2_euler, y2_test_true.numpy()))\n",
    "    \n",
    "    errors_DEM_y1.append(mae(y1_final, y1_test_true.numpy()))\n",
    "    errors_DEM_y2.append(mae(y2_final, y2_test_true.numpy()))"
   ]
  }
 ],
 "metadata": {
  "kernelspec": {
   "display_name": "myenv",
   "language": "python",
   "name": "myenv"
  },
  "language_info": {
   "codemirror_mode": {
    "name": "ipython",
    "version": 3
   },
   "file_extension": ".py",
   "mimetype": "text/x-python",
   "name": "python",
   "nbconvert_exporter": "python",
   "pygments_lexer": "ipython3",
   "version": "3.11.6"
  }
 },
 "nbformat": 4,
 "nbformat_minor": 5
}

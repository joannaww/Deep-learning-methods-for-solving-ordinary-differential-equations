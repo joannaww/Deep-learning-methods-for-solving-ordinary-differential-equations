{
 "cells": [
  {
   "cell_type": "markdown",
   "id": "24d933e3",
   "metadata": {},
   "source": [
    "### Newton's Law of Cooling - single ODE example\n",
    "$$\n",
    "\\frac{dT}{dt} = -k \\left(T - A\\left(t\\right)\\right)\n",
    "$$\n",
    "Analytic solution:\n",
    "$$\n",
    "T\\left(t\\right) = A + \\left(T_0 -A\\right)e^{-kt}\n",
    "$$"
   ]
  },
  {
   "cell_type": "code",
   "execution_count": 80,
   "id": "bcd94bb0",
   "metadata": {},
   "outputs": [],
   "source": [
    "import torch\n",
    "import torch.nn as nn\n",
    "import numpy as np\n",
    "import matplotlib.pyplot as plt\n",
    "import autograd.numpy as np # Autograd library allows for automatic differentiation of functions written in Python\n",
    "from autograd import elementwise_grad as egrad"
   ]
  },
  {
   "cell_type": "code",
   "execution_count": 67,
   "id": "3b008be2",
   "metadata": {},
   "outputs": [],
   "source": [
    "# Define the neural network model\n",
    "class PINN(nn.Module):\n",
    "    def __init__(self, input_size, hidden_size, output_size, initial_value, initial_point_of_the_domain):\n",
    "        super(PINN, self).__init__() # getting acess to all things from nn.Module\n",
    "        self.layer1 = nn.Linear(input_size, hidden_size)  # Define the input layer\n",
    "        self.layer2 = nn.Linear(hidden_size, output_size) # Define the output layer\n",
    "\n",
    "    def forward(self, x):\n",
    "        x_ = torch.sigmoid(self.layer1(x))  # Apply sigmoid activation to the hidden layer\n",
    "        x_ = self.layer2(x_)               # Output layer - no activation function\n",
    "        x_ = initial_value + (x-initial_point_of_the_domain)*x_\n",
    "        return x_"
   ]
  },
  {
   "cell_type": "code",
   "execution_count": 111,
   "id": "2b04f3c2",
   "metadata": {},
   "outputs": [],
   "source": [
    "# Define the actual ODE function\n",
    "def ode_function(k, x, A, T0):\n",
    "    # df/dx = ode_function\n",
    "    # k - proportionality constant\n",
    "    # A - (might be A(t)) environment temperature\n",
    "    x = -k*(analytic_solution(A, T0, k, x) - A)\n",
    "    return x"
   ]
  },
  {
   "cell_type": "code",
   "execution_count": 114,
   "id": "e00bfd71",
   "metadata": {},
   "outputs": [],
   "source": [
    "# Define the analytic solution for the ODE\n",
    "def analytic_solution(A, T0, k, x):\n",
    "    # f(x) = ...\n",
    "    # k - proportionality constant\n",
    "    # A - (might be A(t)) environment temperature\n",
    "    #x = A + (T0-A)*np.exp(-k*x)\n",
    "    x = A + (T0-A)*k*x\n",
    "    return x"
   ]
  },
  {
   "cell_type": "code",
   "execution_count": 115,
   "id": "f1a8694f",
   "metadata": {},
   "outputs": [],
   "source": [
    "# Define the loss function for the PINN\n",
    "def pinn_loss(model, x_collocation, u_collocation, k, A, T0):\n",
    "    # Convert the input numpy arrays to PyTorch tensors\n",
    "    x_collocation_tensor = torch.tensor(x_collocation, dtype=torch.float32, requires_grad=True)\n",
    "    u_collocation_tensor = torch.tensor(u_collocation, dtype=torch.float32) # our u(x)\n",
    "\n",
    "    # Compute the predicted values of u for the collocation points\n",
    "    u_pred_collocation = model(x_collocation_tensor) # our f(x)\n",
    "    \n",
    "    # Compute the derivative of u_pred_collocation with respect to x\n",
    "    u_pred_derivative = torch.autograd.grad(u_pred_collocation, x_collocation_tensor, grad_outputs=torch.ones_like(u_pred_collocation), create_graph=True)[0]\n",
    "    \n",
    "    # Compute the loss for the collocation points\n",
    "    loss_collocation = torch.mean((u_pred_derivative - ode_function(k, x_collocation, A, T0)) ** 2)\n",
    "\n",
    "    # Total loss\n",
    "    total_loss = loss_collocation\n",
    "\n",
    "    return total_loss"
   ]
  },
  {
   "cell_type": "code",
   "execution_count": 116,
   "id": "3bdca245",
   "metadata": {
    "scrolled": false
   },
   "outputs": [
    {
     "ename": "RuntimeError",
     "evalue": "Can't call numpy() on Tensor that requires grad. Use tensor.detach().numpy() instead.",
     "output_type": "error",
     "traceback": [
      "\u001b[0;31m---------------------------------------------------------------------------\u001b[0m",
      "\u001b[0;31mRuntimeError\u001b[0m                              Traceback (most recent call last)",
      "Cell \u001b[0;32mIn[116], line 31\u001b[0m\n\u001b[1;32m     28\u001b[0m optimizer\u001b[38;5;241m.\u001b[39mzero_grad()\n\u001b[1;32m     30\u001b[0m \u001b[38;5;66;03m# Compute the loss\u001b[39;00m\n\u001b[0;32m---> 31\u001b[0m loss \u001b[38;5;241m=\u001b[39m \u001b[43mpinn_loss\u001b[49m\u001b[43m(\u001b[49m\u001b[43mmodel\u001b[49m\u001b[43m,\u001b[49m\u001b[43m \u001b[49m\u001b[43mx_collocation\u001b[49m\u001b[43m,\u001b[49m\u001b[43m \u001b[49m\u001b[43mu_collocation\u001b[49m\u001b[43m,\u001b[49m\u001b[43m \u001b[49m\u001b[43mk\u001b[49m\u001b[43m,\u001b[49m\u001b[43m \u001b[49m\u001b[43mA\u001b[49m\u001b[43m,\u001b[49m\u001b[43m \u001b[49m\u001b[43mT0\u001b[49m\u001b[43m)\u001b[49m\n\u001b[1;32m     33\u001b[0m \u001b[38;5;66;03m# Perform optimization\u001b[39;00m\n\u001b[1;32m     34\u001b[0m loss\u001b[38;5;241m.\u001b[39mbackward()\n",
      "Cell \u001b[0;32mIn[115], line 14\u001b[0m, in \u001b[0;36mpinn_loss\u001b[0;34m(model, x_collocation, u_collocation, k, A, T0)\u001b[0m\n\u001b[1;32m     11\u001b[0m u_pred_derivative \u001b[38;5;241m=\u001b[39m torch\u001b[38;5;241m.\u001b[39mautograd\u001b[38;5;241m.\u001b[39mgrad(u_pred_collocation, x_collocation_tensor, grad_outputs\u001b[38;5;241m=\u001b[39mtorch\u001b[38;5;241m.\u001b[39mones_like(u_pred_collocation), create_graph\u001b[38;5;241m=\u001b[39m\u001b[38;5;28;01mTrue\u001b[39;00m)[\u001b[38;5;241m0\u001b[39m]\n\u001b[1;32m     13\u001b[0m \u001b[38;5;66;03m# Compute the loss for the collocation points\u001b[39;00m\n\u001b[0;32m---> 14\u001b[0m loss_collocation \u001b[38;5;241m=\u001b[39m torch\u001b[38;5;241m.\u001b[39mmean((\u001b[43mu_pred_derivative\u001b[49m\u001b[43m \u001b[49m\u001b[38;5;241;43m-\u001b[39;49m\u001b[43m \u001b[49m\u001b[43mode_function\u001b[49m\u001b[43m(\u001b[49m\u001b[43mk\u001b[49m\u001b[43m,\u001b[49m\u001b[43m \u001b[49m\u001b[43mx_collocation\u001b[49m\u001b[43m,\u001b[49m\u001b[43m \u001b[49m\u001b[43mA\u001b[49m\u001b[43m,\u001b[49m\u001b[43m \u001b[49m\u001b[43mT0\u001b[49m\u001b[43m)\u001b[49m) \u001b[38;5;241m*\u001b[39m\u001b[38;5;241m*\u001b[39m \u001b[38;5;241m2\u001b[39m)\n\u001b[1;32m     16\u001b[0m \u001b[38;5;66;03m# Total loss\u001b[39;00m\n\u001b[1;32m     17\u001b[0m total_loss \u001b[38;5;241m=\u001b[39m loss_collocation\n",
      "File \u001b[0;32m~/Desktop/Master_Thesis/Deep-learning-methods-for-solving-ordinary-differential-equations/myenv/lib/python3.11/site-packages/torch/_tensor.py:1062\u001b[0m, in \u001b[0;36mTensor.__array__\u001b[0;34m(self, dtype)\u001b[0m\n\u001b[1;32m   1060\u001b[0m     \u001b[38;5;28;01mreturn\u001b[39;00m handle_torch_function(Tensor\u001b[38;5;241m.\u001b[39m__array__, (\u001b[38;5;28mself\u001b[39m,), \u001b[38;5;28mself\u001b[39m, dtype\u001b[38;5;241m=\u001b[39mdtype)\n\u001b[1;32m   1061\u001b[0m \u001b[38;5;28;01mif\u001b[39;00m dtype \u001b[38;5;129;01mis\u001b[39;00m \u001b[38;5;28;01mNone\u001b[39;00m:\n\u001b[0;32m-> 1062\u001b[0m     \u001b[38;5;28;01mreturn\u001b[39;00m \u001b[38;5;28;43mself\u001b[39;49m\u001b[38;5;241;43m.\u001b[39;49m\u001b[43mnumpy\u001b[49m\u001b[43m(\u001b[49m\u001b[43m)\u001b[49m\n\u001b[1;32m   1063\u001b[0m \u001b[38;5;28;01melse\u001b[39;00m:\n\u001b[1;32m   1064\u001b[0m     \u001b[38;5;28;01mreturn\u001b[39;00m \u001b[38;5;28mself\u001b[39m\u001b[38;5;241m.\u001b[39mnumpy()\u001b[38;5;241m.\u001b[39mastype(dtype, copy\u001b[38;5;241m=\u001b[39m\u001b[38;5;28;01mFalse\u001b[39;00m)\n",
      "\u001b[0;31mRuntimeError\u001b[0m: Can't call numpy() on Tensor that requires grad. Use tensor.detach().numpy() instead."
     ]
    }
   ],
   "source": [
    "# Example usage\n",
    "if __name__ == \"__main__\":\n",
    "    # Define the parameters\n",
    "    input_size = 1      # Dimension of the input (x)\n",
    "    hidden_size = 100   # Number of units in the hidden layer\n",
    "    output_size = 1     # Dimension of the output (u)\n",
    "    initial_value = 0 # f(a) = initial_value\n",
    "    initial_point_of_the_domain = 0 # x in (a,b)\n",
    "    \n",
    "    A = 10\n",
    "    k = 4\n",
    "    T0 = initial_value\n",
    "\n",
    "    # Create an instance of the PINN model\n",
    "    model = PINN(input_size, hidden_size, output_size, initial_value, initial_point_of_the_domain)\n",
    "\n",
    "    # Define the collocation points\n",
    "    x_collocation = np.linspace(0, 1, 100).reshape(-1, 1)\n",
    "    u_collocation = ode_function(k, x_collocation, A, T0) \n",
    "\n",
    "    # Define the optimizer\n",
    "    optimizer = torch.optim.Adam(model.parameters(), lr=0.001)\n",
    "\n",
    "    # Training loop\n",
    "    num_epochs = 1000\n",
    "    for epoch in range(num_epochs):\n",
    "        # Zero the gradients\n",
    "        optimizer.zero_grad()\n",
    "\n",
    "        # Compute the loss\n",
    "        loss = pinn_loss(model, x_collocation, u_collocation, k, A, T0)\n",
    "\n",
    "        # Perform optimization\n",
    "        loss.backward()\n",
    "        optimizer.step()\n",
    "\n",
    "        # Print progress\n",
    "        if (epoch + 1) % 100 == 0:\n",
    "            print(f'Epoch [{epoch+1}/{num_epochs}], Loss: {loss.item():.4f}')\n",
    "\n",
    "    # Evaluate the trained model\n",
    "    with torch.no_grad():\n",
    "        # Generate test data\n",
    "        x_test = np.linspace(0, 1, 100).reshape(-1, 1)\n",
    "\n",
    "        # Convert test data to PyTorch tensor\n",
    "        x_test_tensor = torch.tensor(x_test, dtype=torch.float32)\n",
    "\n",
    "        # Compute the neural network's predictions\n",
    "        u_pred_tensor = model(x_test_tensor)\n",
    "\n",
    "        # Convert predictions to numpy array\n",
    "        u_pred = u_pred_tensor.numpy()\n",
    "\n",
    "    # Compute the analytic solution for comparison\n",
    "    u_analytic = analytic_solution(x_test)\n",
    "\n",
    "    # Compare the neural network's output with the analytic solution\n",
    "    print(\"Neural Network's Output:\\n\", u_pred)\n",
    "    print(\"Analytic Solution:\\n\", u_analytic)"
   ]
  },
  {
   "cell_type": "code",
   "execution_count": 63,
   "id": "b65e9598",
   "metadata": {},
   "outputs": [
    {
     "data": {
      "image/png": "[encoded data removed]",
      "text/plain": [
       "<Figure size 640x480 with 1 Axes>"
      ]
     },
     "metadata": {},
     "output_type": "display_data"
    }
   ],
   "source": [
    "plt.plot(x_collocation, u_pred, label='pred')\n",
    "plt.plot(x_collocation, u_analytic, label='analytic')\n",
    "plt.legend()\n",
    "plt.show()"
   ]
  }
 ],
 "metadata": {
  "kernelspec": {
   "display_name": "myenv",
   "language": "python",
   "name": "myenv"
  },
  "language_info": {
   "codemirror_mode": {
    "name": "ipython",
    "version": 3
   },
   "file_extension": ".py",
   "mimetype": "text/x-python",
   "name": "python",
   "nbconvert_exporter": "python",
   "pygments_lexer": "ipython3",
   "version": "3.11.6"
  }
 },
 "nbformat": 4,
 "nbformat_minor": 5
}
